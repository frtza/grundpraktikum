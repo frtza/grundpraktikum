{
 "cells": [
  {
   "cell_type": "markdown",
   "id": "e4dacb3e",
   "metadata": {},
   "source": [
    "packages"
   ]
  },
  {
   "cell_type": "code",
   "execution_count": 1,
   "id": "e2c8b0c5",
   "metadata": {},
   "outputs": [],
   "source": [
    "import numpy as np"
   ]
  },
  {
   "cell_type": "markdown",
   "id": "a2e22bef",
   "metadata": {},
   "source": [
    "tables"
   ]
  },
  {
   "cell_type": "code",
   "execution_count": 2,
   "id": "cf8bb52e",
   "metadata": {},
   "outputs": [],
   "source": [
    "table_header = r'''    \\sisetup{table-format=2.1}\n",
    "    \\begin{tabular}{c S S S[table-format=1.3] S[table-format=1.3]}\n",
    "        \\toprule\n",
    "        {Loch} &\n",
    "        {$a_k \\mathbin{/} \\unit{\\milli\\meter}$} &\n",
    "        {$b_k \\mathbin{/} \\unit{\\milli\\meter}$} &\n",
    "        {$a_k \\, / \\, a'_k$} &\n",
    "        {$b_k \\, / \\, b'_k$} \\\\\n",
    "        \\midrule\n",
    "'''\n",
    "table_footer = r'''        \\bottomrule\n",
    "    \\end{tabular}\n",
    "'''\n",
    "row_template = r'        {0:.0f} & {1:.1f} & {2:.1f} & {3:.3f} & {4:.3f} \\\\'"
   ]
  },
  {
   "cell_type": "markdown",
   "id": "def58a8e",
   "metadata": {},
   "source": [
    "caliper"
   ]
  },
  {
   "cell_type": "code",
   "execution_count": 3,
   "id": "b4651e74",
   "metadata": {},
   "outputs": [
    {
     "name": "stdout",
     "output_type": "stream",
     "text": [
      "[13.5  21.85 30.3  38.7  46.8  54.7  62.7  70.6  15.2 ]\n",
      "[61.85 54.4  47.   39.5  31.   23.   15.35  7.2  55.8 ]\n"
     ]
    }
   ],
   "source": [
    "n0, a0, b0, d0, f0 = np.genfromtxt('data/ausmessung.txt', unpack=True)\n",
    "\n",
    "print(a0)\n",
    "print(b0)"
   ]
  },
  {
   "cell_type": "markdown",
   "id": "88fc4c98",
   "metadata": {},
   "source": [
    "a-scan"
   ]
  },
  {
   "cell_type": "code",
   "execution_count": 4,
   "id": "457c4ad0",
   "metadata": {},
   "outputs": [
    {
     "name": "stdout",
     "output_type": "stream",
     "text": [
      "[ 3.  4.  5.  6.  7.  8.  9. 10. 11.]\n",
      "\n",
      "\n",
      "[14.7 23.5 32.1 40.8 48.4 56.2 64.2 73.1 17.2]\n",
      "[63.  55.4 47.8 40.4 32.2 24.4 16.8  8.7 56.8]\n",
      "\n",
      "\n",
      "[1.08888889 1.07551487 1.05940594 1.05426357 1.03418803 1.0274223\n",
      " 1.02392344 1.03541076 1.13157895]\n",
      "[1.01859337 1.01838235 1.01702128 1.02278481 1.03870968 1.06086957\n",
      " 1.09446254 1.20833333 1.01792115]\n",
      "\n",
      "\n",
      "    \\sisetup{table-format=2.1}\n",
      "    \\begin{tabular}{c S S S[table-format=1.3] S[table-format=1.3]}\n",
      "        \\toprule\n",
      "        {Loch} &\n",
      "        {$a_k \\mathbin{/} \\unit{\\milli\\meter}$} &\n",
      "        {$b_k \\mathbin{/} \\unit{\\milli\\meter}$} &\n",
      "        {$a_k \\, / \\, a'_k$} &\n",
      "        {$b_k \\, / \\, b'_k$} \\\\\n",
      "        \\midrule\n",
      "        3 & 14.7 & 63.0 & 1.089 & 1.019 \\\\\n",
      "        4 & 23.5 & 55.4 & 1.076 & 1.018 \\\\\n",
      "        5 & 32.1 & 47.8 & 1.059 & 1.017 \\\\\n",
      "        6 & 40.8 & 40.4 & 1.054 & 1.023 \\\\\n",
      "        7 & 48.4 & 32.2 & 1.034 & 1.039 \\\\\n",
      "        8 & 56.2 & 24.4 & 1.027 & 1.061 \\\\\n",
      "        9 & 64.2 & 16.8 & 1.024 & 1.094 \\\\\n",
      "        10 & 73.1 & 8.7 & 1.035 & 1.208 \\\\\n",
      "        11 & 17.2 & 56.8 & 1.132 & 1.018 \\\\\n",
      "        \\bottomrule\n",
      "    \\end{tabular}\n",
      "\n",
      "\n",
      "1.0589551960438714\n",
      "1.0552308971514015\n"
     ]
    }
   ],
   "source": [
    "n1, a1, b1 = np.genfromtxt('data/ascan.txt', unpack=True)\n",
    "\n",
    "da1, db1 = a1/a0, b1/b0\n",
    "\n",
    "print(n1)\n",
    "print('\\n')\n",
    "print(a1)\n",
    "print(b1)\n",
    "print('\\n')\n",
    "print(da1)\n",
    "print(db1)\n",
    "print('\\n')\n",
    "\n",
    "with open('build/tab_1.tex', 'w') as f:\n",
    "        f.write(table_header)\n",
    "        for row in zip(n1, a1, b1, da1, db1):\n",
    "                f.write(row_template.format(*row))\n",
    "                f.write('\\n')\n",
    "        f.write(table_footer)\n",
    "with open('build/tab_1.tex', 'r') as f:\n",
    "    print(f.read())\n",
    "\n",
    "print('')\n",
    "print(f'{np.mean(da1)}')\n",
    "print(f'{np.mean(db1)}')"
   ]
  },
  {
   "cell_type": "markdown",
   "id": "0ab819a8",
   "metadata": {},
   "source": [
    "b-scan"
   ]
  },
  {
   "cell_type": "code",
   "execution_count": 5,
   "id": "9f064fa4",
   "metadata": {},
   "outputs": [
    {
     "name": "stdout",
     "output_type": "stream",
     "text": [
      "[ 3.  4.  5.  6.  7.  8.  9. 10. 11.]\n",
      "\n",
      "\n",
      "[15.1 23.6 32.4 40.8 48.9 56.5 64.7 60.  17.2]\n",
      "[63.3 55.8 48.2 40.8 33.  24.8 16.8  9.  57.4]\n",
      "\n",
      "\n",
      "[1.11851852 1.08009153 1.06930693 1.05426357 1.04487179 1.03290676\n",
      " 1.03189793 0.84985836 1.13157895]\n",
      "[1.02344382 1.02573529 1.02553191 1.03291139 1.06451613 1.07826087\n",
      " 1.09446254 1.25       1.02867384]\n",
      "\n",
      "\n",
      "    \\sisetup{table-format=2.1}\n",
      "    \\begin{tabular}{c S S S[table-format=1.3] S[table-format=1.3]}\n",
      "        \\toprule\n",
      "        {Loch} &\n",
      "        {$a_k \\mathbin{/} \\unit{\\milli\\meter}$} &\n",
      "        {$b_k \\mathbin{/} \\unit{\\milli\\meter}$} &\n",
      "        {$a_k \\, / \\, a'_k$} &\n",
      "        {$b_k \\, / \\, b'_k$} \\\\\n",
      "        \\midrule\n",
      "        3 & 15.1 & 63.3 & 1.119 & 1.023 \\\\\n",
      "        4 & 23.6 & 55.8 & 1.080 & 1.026 \\\\\n",
      "        5 & 32.4 & 48.2 & 1.069 & 1.026 \\\\\n",
      "        6 & 40.8 & 40.8 & 1.054 & 1.033 \\\\\n",
      "        7 & 48.9 & 33.0 & 1.045 & 1.065 \\\\\n",
      "        8 & 56.5 & 24.8 & 1.033 & 1.078 \\\\\n",
      "        9 & 64.7 & 16.8 & 1.032 & 1.094 \\\\\n",
      "        10 & {-} & 9.0 & {-} & 1.250 \\\\\n",
      "        11 & 17.2 & 57.4 & 1.132 & 1.029 \\\\\n",
      "        \\bottomrule\n",
      "    \\end{tabular}\n",
      "\n",
      "\n",
      "1.0704294976658768\n",
      "1.0692817546154407\n"
     ]
    }
   ],
   "source": [
    "n2, a2, b2 = np.genfromtxt('data/bscan.txt', unpack=True)\n",
    "\n",
    "da2, db2 = a2/a0, b2/b0\n",
    "\n",
    "print(n2)\n",
    "print('\\n')\n",
    "print(a2)\n",
    "print(b2)\n",
    "print('\\n')\n",
    "print(da2)\n",
    "print(db2)\n",
    "print('\\n')\n",
    "\n",
    "row_inline = r'        {0:.0f} & {{-}} & {1:.1f} & {{-}} & {2:.3f} \\\\'\n",
    "with open('build/tab_2.tex', 'w') as f:\n",
    "        f.write(table_header)\n",
    "        for row in zip(n2[:7], a2[:7], b2[:7], da2[:7], db2[:7]):\n",
    "                f.write(row_template.format(*row))\n",
    "                f.write('\\n')\n",
    "        for row in zip(n2[7:8], b2[7:8], db2[7:8]):\n",
    "                f.write(row_inline.format(*row))\n",
    "                f.write('\\n')\n",
    "        for row in zip(n2[8:], a2[8:], b2[8:], da2[8:], db2[8:]):\n",
    "                f.write(row_template.format(*row))\n",
    "                f.write('\\n')\n",
    "        f.write(table_footer)\n",
    "with open('build/tab_2.tex', 'r') as f:\n",
    "    print(f.read())\n",
    "\n",
    "print('')\n",
    "print(f'{np.mean(np.delete(da2, 7))}')\n",
    "print(f'{np.mean(db2)}')"
   ]
  }
 ],
 "metadata": {
  "kernelspec": {
   "display_name": "Python 3 (ipykernel)",
   "language": "python",
   "name": "python3"
  },
  "language_info": {
   "codemirror_mode": {
    "name": "ipython",
    "version": 3
   },
   "file_extension": ".py",
   "mimetype": "text/x-python",
   "name": "python",
   "nbconvert_exporter": "python",
   "pygments_lexer": "ipython3",
   "version": "3.9.12"
  }
 },
 "nbformat": 4,
 "nbformat_minor": 5
}
